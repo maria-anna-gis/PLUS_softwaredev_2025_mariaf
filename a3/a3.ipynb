{
 "cells": [
  {
   "cell_type": "markdown",
   "id": "e011ce3f-3433-4749-97d5-ed13435fd30e",
   "metadata": {},
   "source": [
    "# A3: Geo-Python Notebook: Project Outline\n",
    "\n",
    "### This notebook aims to process a GPX file to extract some basic activity statistics and create a heat map of the route based on speed.\n",
    "### The notebook will use gpxpy, pandas, folium and a heat map plugin to execute the task. More details on each of these libraries are included below."
   ]
  },
  {
   "cell_type": "markdown",
   "id": "9a3eb11b-d4d6-4a8d-a673-40fe4bf89996",
   "metadata": {},
   "source": [
    "#### Links to the libraries used in this notebook\n",
    "- **gpxpy**: [https://github.com/tkrajina/gpxpy](https://github.com/tkrajina/gpxpy) - Python library for parsing and manipulating GPX files\n",
    "- **pandas**: [https://pandas.pydata.org/docs/](https://pandas.pydata.org/docs/) - Data manipulation and analysis\n",
    "- **folium**: [https://python-visualization.github.io/folium/](https://python-visualization.github.io/folium/) - Produces maps in python\n",
    "- **HeatMap plugin**: [https://python-visualization.github.io/folium/plugins.html#folium.plugins.HeatMap](https://python-visualization.github.io/folium/plugins.html#folium.plugins.HeatMap) - Visualises the heat map data"
   ]
  },
  {
   "cell_type": "code",
   "execution_count": null,
   "id": "f099b530-889d-4914-84c6-940acf4bf431",
   "metadata": {},
   "outputs": [],
   "source": [
    "# Install and Import the required libraries\n",
    "!pip install gpxpy folium\n",
    "import gpxpy\n",
    "import pandas as pd\n",
    "import folium\n",
    "from folium.plugins import HeatMap\n",
    "import math"
   ]
  },
  {
   "cell_type": "markdown",
   "id": "6c3156a3-1a1f-4080-a6b9-86474801c2fb",
   "metadata": {},
   "source": [
    "### The next step is to load in the GPX File\n",
    "#### **gpxpy.parse()** ([documentation here](https://gpxpy.readthedocs.io/en/latest/gpx.html#gpxpy.gpx.GPX.parse)) is used to read the GPX file and extract GPS track data.\n",
    "\n",
    "### Here I am testing with a hike I recently completed, but \"gpx_file\" could be changed to any GPX file"
   ]
  },
  {
   "cell_type": "code",
   "execution_count": null,
   "id": "ecc907ec-f59a-43e1-9bf2-310a80740a9a",
   "metadata": {},
   "outputs": [],
   "source": [
    "gpx_file = \"gaisberg.gpx\"\n",
    "\n",
    "with open(gpx_file, 'r') as f:\n",
    "    gpx = gpxpy.parse(f)\n",
    "\n",
    "print(f\"Loaded {gpx_file}\")"
   ]
  },
  {
   "cell_type": "markdown",
   "id": "0051d89c-604a-4c13-9998-ba83947f5b72",
   "metadata": {},
   "source": [
    "### Next, the GPS data will be extracted and some stats can then be calculated from it"
   ]
  },
  {
   "cell_type": "code",
   "execution_count": null,
   "id": "a61ff4d0-9c9a-4683-a3f1-9ab720bf2da0",
   "metadata": {},
   "outputs": [],
   "source": [
    "def haversine_distance(lat1, lon1, lat2, lon2):\n",
    "    R = 6371000  # Earth radius in meters\n",
    "    lat1, lon1, lat2, lon2 = map(math.radians, [lat1, lon1, lat2, lon2])\n",
    "    dlat = lat2 - lat1\n",
    "    dlon = lon2 - lon1\n",
    "    a = math.sin(dlat/2)**2 + math.cos(lat1) * math.cos(lat2) * math.sin(dlon/2)**2\n",
    "    return R * 2 * math.asin(math.sqrt(a))\n",
    "\n",
    "# Extract all points\n",
    "points = []\n",
    "for track in gpx.tracks:\n",
    "    for segment in track.segments:\n",
    "        for point in segment.points:\n",
    "            points.append({\n",
    "                'lat': point.latitude,\n",
    "                'lon': point.longitude,\n",
    "                'elevation': point.elevation or 0,\n",
    "                'time': point.time\n",
    "            })\n",
    "\n",
    "# Create DataFrame and calculate distances/speeds\n",
    "df = pd.DataFrame(points)\n",
    "df['distance'] = 0\n",
    "df['speed_kmh'] = 0\n",
    "total_distance = 0\n",
    "\n",
    "for i in range(1, len(df)):\n",
    "    dist = haversine_distance(df.iloc[i-1]['lat'], df.iloc[i-1]['lon'],\n",
    "                             df.iloc[i]['lat'], df.iloc[i]['lon'])\n",
    "    df.iloc[i, df.columns.get_loc('distance')] = dist\n",
    "    total_distance += dist\n",
    "    \n",
    "    # Calculate speed if we have time data\n",
    "    if df.iloc[i]['time'] and df.iloc[i-1]['time']:\n",
    "        time_diff = (df.iloc[i]['time'] - df.iloc[i-1]['time']).total_seconds()\n",
    "        if time_diff > 0:\n",
    "            speed = (dist / time_diff) * 3.6  # Convert to km/h\n",
    "            df.iloc[i, df.columns.get_loc('speed_kmh')] = speed\n",
    "\n",
    "# Calculate statistics\n",
    "distance_km = total_distance / 1000\n",
    "\n",
    "# Duration\n",
    "if df['time'].notna().any():\n",
    "    start_time = df['time'].dropna().iloc[0]\n",
    "    end_time = df['time'].dropna().iloc[-1]\n",
    "    duration = end_time - start_time\n",
    "    duration_hours = duration.total_seconds() / 3600\n",
    "else:\n",
    "    duration_hours = 0\n",
    "\n",
    "# Speed stats\n",
    "avg_speed = df[df['speed_kmh'] > 0]['speed_kmh'].mean()\n",
    "max_speed = df['speed_kmh'].max()\n",
    "\n",
    "# Elevation stats\n",
    "min_elevation = df['elevation'].min()\n",
    "max_elevation = df['elevation'].max()\n",
    "elevation_gain = df['elevation'].diff()[df['elevation'].diff() > 0].sum()\n",
    "elevation_loss = abs(df['elevation'].diff()[df['elevation'].diff() < 0].sum())\n",
    "\n",
    "# Print results\n",
    "\n",
    "print(\"\\n=== HIKE STATISTICS ===\")\n",
    "print(f\"Total points: {len(df)}\")\n",
    "print(f\"Distance: {distance_km:.2f} km\")\n",
    "print(f\"Duration: {duration_hours:.2f} hours\")\n",
    "print(f\"Average Speed: {avg_speed:.2f} km/h\")\n",
    "print(f\"Max Speed: {max_speed:.2f} km/h\")\n",
    "print(f\"Elevation: {min_elevation:.0f}m - {max_elevation:.0f}m\")\n",
    "print(f\"Elevation Gain: {elevation_gain:.0f}m\")\n",
    "print(f\"Elevation Loss: {elevation_loss:.0f}m\")"
   ]
  },
  {
   "cell_type": "markdown",
   "id": "ff5a72c7-a9ba-4bd3-829b-848e74b36a16",
   "metadata": {},
   "source": [
    "### Finally, a heat map can be created using folium and the heat map extension"
   ]
  },
  {
   "cell_type": "code",
   "execution_count": null,
   "id": "707b4c0f-b33d-45b2-923e-5ee46b5e6052",
   "metadata": {},
   "outputs": [],
   "source": [
    "# Set the map to centre on the location of the GPS file\n",
    "center_lat = df['lat'].mean()\n",
    "center_lon = df['lon'].mean()\n",
    "\n",
    "m = folium.Map(location=[center_lat, center_lon], zoom_start=15)\n",
    "\n",
    "# Add track line\n",
    "track_points = [[row['lat'], row['lon']] for _, row in df.iterrows()]\n",
    "folium.PolyLine(track_points, color='black', weight=2).add_to(m)\n",
    "\n",
    "# Add speed heatmap\n",
    "speed_data = []\n",
    "speeds = df[df['speed_kmh'] > 0]['speed_kmh']\n",
    "if not speeds.empty:\n",
    "    min_speed, max_speed = speeds.min(), speeds.max()\n",
    "    for _, row in df.iterrows():\n",
    "        if row['speed_kmh'] > 0:\n",
    "            intensity = (row['speed_kmh'] - min_speed) / (max_speed - min_speed) if max_speed > min_speed else 0.5\n",
    "            speed_data.append([row['lat'], row['lon'], intensity])\n",
    "\n",
    "if speed_data:\n",
    "    HeatMap(speed_data, radius=12, blur=10).add_to(m)\n",
    "\n",
    "# Add start/end markers\n",
    "folium.Marker([df.iloc[0]['lat'], df.iloc[0]['lon']], \n",
    "              popup='Start', icon=folium.Icon(color='green')).add_to(m)\n",
    "folium.Marker([df.iloc[-1]['lat'], df.iloc[-1]['lon']], \n",
    "              popup='End', icon=folium.Icon(color='red')).add_to(m)\n",
    "\n",
    "# Display map\n",
    "m"
   ]
  },
  {
   "cell_type": "code",
   "execution_count": null,
   "id": "feb13f25-ca65-42aa-a100-31f0fe7d7caf",
   "metadata": {},
   "outputs": [],
   "source": []
  }
 ],
 "metadata": {
  "kernelspec": {
   "display_name": "Python 3 (ipykernel)",
   "language": "python",
   "name": "python3"
  },
  "language_info": {
   "codemirror_mode": {
    "name": "ipython",
    "version": 3
   },
   "file_extension": ".py",
   "mimetype": "text/x-python",
   "name": "python",
   "nbconvert_exporter": "python",
   "pygments_lexer": "ipython3",
   "version": "3.11.10"
  }
 },
 "nbformat": 4,
 "nbformat_minor": 5
}
